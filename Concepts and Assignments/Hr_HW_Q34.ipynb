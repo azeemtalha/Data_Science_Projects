{
  "nbformat": 4,
  "nbformat_minor": 0,
  "metadata": {
    "colab": {
      "provenance": []
    },
    "kernelspec": {
      "name": "python3",
      "display_name": "Python 3"
    },
    "language_info": {
      "name": "python"
    }
  },
  "cells": [
    {
      "cell_type": "code",
      "execution_count": 10,
      "metadata": {
        "id": "v_quYVBzUlPw"
      },
      "outputs": [],
      "source": [
        "import pickle\n",
        "from sklearn.model_selection import KFold\n",
        "from sklearn.neighbors import KNeighborsClassifier\n",
        "from sklearn.metrics import accuracy_score"
      ]
    },
    {
      "cell_type": "code",
      "source": [
        "with open('/content/drive/MyDrive/kNN_data.pkl', 'rb') as file:\n",
        "  data_loaded = pickle.load(file)\n",
        "\n",
        "X = data_loaded['X']\n",
        "X_test = data_loaded['X_test']\n",
        "y = data_loaded['y']\n",
        "y_test = data_loaded['y_test']"
      ],
      "metadata": {
        "id": "L9ScKceFU-hy"
      },
      "execution_count": 3,
      "outputs": []
    },
    {
      "cell_type": "code",
      "source": [
        "X"
      ],
      "metadata": {
        "colab": {
          "base_uri": "https://localhost:8080/"
        },
        "id": "ViCHihcgVc0F",
        "outputId": "cae8b148-28f2-4633-d563-fab155adf67c"
      },
      "execution_count": 4,
      "outputs": [
        {
          "output_type": "execute_result",
          "data": {
            "text/plain": [
              "array([[-0.51198289,  2.96465545,  1.56003759, ...,  1.88382445,\n",
              "         1.2871477 ,  0.02065852],\n",
              "       [ 8.20135097,  7.1233988 , -2.74359592, ...,  3.00120229,\n",
              "         2.63636365, -1.02797662],\n",
              "       [ 3.11316313, -7.93516487, -5.85519767, ...,  3.21156553,\n",
              "         2.3508674 ,  1.88540704],\n",
              "       ...,\n",
              "       [ 3.71950955, 12.07264553, -3.72413365, ...,  5.04651566,\n",
              "         0.23859553,  0.86497256],\n",
              "       [ 2.73705288, -0.95971681,  6.7423966 , ...,  1.6972671 ,\n",
              "        -1.75277933, -2.70699182],\n",
              "       [-3.71639109,  5.4324383 ,  1.34561924, ...,  3.60683868,\n",
              "         4.50187658, -2.89873973]])"
            ]
          },
          "metadata": {},
          "execution_count": 4
        }
      ]
    },
    {
      "cell_type": "code",
      "source": [
        "X.shape"
      ],
      "metadata": {
        "colab": {
          "base_uri": "https://localhost:8080/"
        },
        "id": "xa7nrGlAVfEF",
        "outputId": "573b39a3-43ee-4fae-e4ab-ad5026ee6f28"
      },
      "execution_count": 9,
      "outputs": [
        {
          "output_type": "execute_result",
          "data": {
            "text/plain": [
              "(1000, 10)"
            ]
          },
          "metadata": {},
          "execution_count": 9
        }
      ]
    },
    {
      "cell_type": "code",
      "source": [
        "validation_accuracies = []"
      ],
      "metadata": {
        "id": "gbzjk4_bWNM9"
      },
      "execution_count": 11,
      "outputs": []
    },
    {
      "cell_type": "code",
      "source": [
        "knn_classifier = KNeighborsClassifier(n_neighbors=5)\n",
        "\n",
        "kf = KFold(n_splits=5, shuffle=True, random_state=42)\n",
        "for train_index, val_index in kf.split(X):\n",
        "    X_train_fold, X_val_fold = X[train_index], X[val_index]\n",
        "    y_train_fold, y_val_fold = y[train_index], y[val_index]\n",
        "\n",
        "    knn_classifier.fit(X_train_fold, y_train_fold)\n",
        "\n",
        "    y_val_pred = knn_classifier.predict(X_val_fold)\n",
        "\n",
        "    val_accuracy = accuracy_score(y_val_fold, y_val_pred)\n",
        "    validation_accuracies.append(val_accuracy)\n",
        "\n",
        "\n",
        "print(\"Validation Accuracies for k=5 (5-fold CV):\", validation_accuracies)\n",
        "print(\"Mean Validation Accuracy for k=5 (5-fold CV):\", sum(validation_accuracies) / len(validation_accuracies))\n",
        "\n",
        "knn_classifier.fit(X, y)\n",
        "\n",
        "y_train_pred = knn_classifier.predict(X)\n",
        "\n",
        "in_sample_error = 1 - accuracy_score(y, y_train_pred)\n",
        "\n",
        "y_test_pred = knn_classifier.predict(X_test)\n",
        "\n",
        "out_sample_error = 1 - accuracy_score(y_test, y_test_pred)\n",
        "\n",
        "print(\"\\nIn-sample error (training error) for k=5:\", in_sample_error)\n",
        "print(\"Out-sample error (test error) for k=5:\", out_sample_error)"
      ],
      "metadata": {
        "colab": {
          "base_uri": "https://localhost:8080/"
        },
        "id": "MGyhRSUEWGtv",
        "outputId": "ca718769-b4ed-4a05-c4bc-81c578a30421"
      },
      "execution_count": 12,
      "outputs": [
        {
          "output_type": "stream",
          "name": "stdout",
          "text": [
            "Validation Accuracies for k=5 (5-fold CV): [0.84, 0.825, 0.875, 0.81, 0.895]\n",
            "Mean Validation Accuracy for k=5 (5-fold CV): 0.849\n",
            "\n",
            "In-sample error (training error) for k=5: 0.09599999999999997\n",
            "Out-sample error (test error) for k=5: 0.22199999999999998\n"
          ]
        }
      ]
    },
    {
      "cell_type": "markdown",
      "source": [
        "Question 4"
      ],
      "metadata": {
        "id": "nZ0RTDJWW7nN"
      }
    },
    {
      "cell_type": "code",
      "source": [
        "import numpy as np\n",
        "from sklearn.linear_model import LogisticRegression\n",
        "from sklearn.metrics import accuracy_score, confusion_matrix"
      ],
      "metadata": {
        "id": "5ys488PKW_4M"
      },
      "execution_count": 13,
      "outputs": []
    },
    {
      "cell_type": "code",
      "source": [
        "class_indices = np.where((y == 0) | (y == 1))[0]\n",
        "X_subset = X[class_indices]\n",
        "y_subset = y[class_indices]\n",
        "\n",
        "test_class_indices = np.where((y_test == 0) | (y_test == 1))[0]\n",
        "X_test_subset = X_test[test_class_indices]\n",
        "y_test_subset = y_test[test_class_indices]"
      ],
      "metadata": {
        "id": "BIab-U-MXphL"
      },
      "execution_count": 14,
      "outputs": []
    },
    {
      "cell_type": "code",
      "source": [
        "logistic_regression = LogisticRegression()\n",
        "\n",
        "logistic_regression.fit(X_subset, y_subset)\n",
        "\n",
        "y_test_pred = logistic_regression.predict(X_test_subset)\n",
        "\n",
        "test_accuracy = accuracy_score(y_test_subset, y_test_pred)\n",
        "print(\"Test Accuracy:\", test_accuracy)\n",
        "\n",
        "conf_matrix = confusion_matrix(y_test_subset, y_test_pred)\n",
        "print(\"Confusion Matrix:\")\n",
        "print(conf_matrix)"
      ],
      "metadata": {
        "colab": {
          "base_uri": "https://localhost:8080/"
        },
        "id": "093LFJezX0d-",
        "outputId": "f7a61f98-d86f-491a-b8d7-dd86b2028e36"
      },
      "execution_count": 15,
      "outputs": [
        {
          "output_type": "stream",
          "name": "stdout",
          "text": [
            "Test Accuracy: 0.990521327014218\n",
            "Confusion Matrix:\n",
            "[[ 83   2]\n",
            " [  0 126]]\n"
          ]
        }
      ]
    },
    {
      "cell_type": "code",
      "source": [
        "import matplotlib.pyplot as plt\n",
        "import seaborn as sns\n",
        "\n",
        "plt.figure(figsize = (10,7))\n",
        "sns.heatmap(conf_matrix, annot=True, fmt='d')\n",
        "plt.xlabel('predicted')\n",
        "plt.ylabel('True_val')\n"
      ],
      "metadata": {
        "colab": {
          "base_uri": "https://localhost:8080/",
          "height": 531
        },
        "id": "9vXnCchLYZnp",
        "outputId": "3f7eea1e-b001-4f75-dd52-ad9448b0d730"
      },
      "execution_count": 16,
      "outputs": [
        {
          "output_type": "execute_result",
          "data": {
            "text/plain": [
              "Text(95.72222222222221, 0.5, 'True_val')"
            ]
          },
          "metadata": {},
          "execution_count": 16
        },
        {
          "output_type": "display_data",
          "data": {
            "text/plain": [
              "<Figure size 1000x700 with 2 Axes>"
            ],
            "image/png": "[encoded data removed]"
          },
          "metadata": {}
        }
      ]
    }
  ]
}