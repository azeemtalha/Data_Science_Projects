{
  "nbformat": 4,
  "nbformat_minor": 0,
  "metadata": {
    "colab": {
      "provenance": []
    },
    "kernelspec": {
      "name": "python3",
      "display_name": "Python 3"
    },
    "language_info": {
      "name": "python"
    }
  },
  "cells": [
    {
      "cell_type": "code",
      "execution_count": 4,
      "metadata": {
        "id": "CCYPCJPdP65R"
      },
      "outputs": [],
      "source": [
        "import pickle\n"
      ]
    },
    {
      "cell_type": "code",
      "source": [
        "with open('/content/drive/MyDrive/regression_data_noise.pkl', 'rb') as file:\n",
        "  data_loaded = pickle.load(file)\n",
        "\n",
        "X_train = data_loaded['X_train']\n",
        "X_val = data_loaded['X_val']\n",
        "y_train = data_loaded['y_train']\n",
        "y_val = data_loaded['y_val']"
      ],
      "metadata": {
        "id": "MWvRab19RBhE"
      },
      "execution_count": 5,
      "outputs": []
    },
    {
      "cell_type": "code",
      "source": [
        "X_train.shape"
      ],
      "metadata": {
        "colab": {
          "base_uri": "https://localhost:8080/"
        },
        "id": "oqxtZWUmSI-f",
        "outputId": "8afe16e1-9dd8-46f1-a44f-1b60c7cdda43"
      },
      "execution_count": 7,
      "outputs": [
        {
          "output_type": "execute_result",
          "data": {
            "text/plain": [
              "(80, 2)"
            ]
          },
          "metadata": {},
          "execution_count": 7
        }
      ]
    },
    {
      "cell_type": "code",
      "source": [
        "y_train.shape"
      ],
      "metadata": {
        "colab": {
          "base_uri": "https://localhost:8080/"
        },
        "id": "X4icDoxlSQUR",
        "outputId": "41cc719b-b71e-4679-fc7e-2b7f9585f8e9"
      },
      "execution_count": 8,
      "outputs": [
        {
          "output_type": "execute_result",
          "data": {
            "text/plain": [
              "(80,)"
            ]
          },
          "metadata": {},
          "execution_count": 8
        }
      ]
    },
    {
      "cell_type": "code",
      "source": [
        "from sklearn.preprocessing import PolynomialFeatures\n",
        "\n",
        "poly_transformer = PolynomialFeatures(degree=12)\n",
        "\n",
        "X_train_transformed = poly_transformer.fit_transform(X_train)\n",
        "\n",
        "X_val_transformed = poly_transformer.transform(X_val)"
      ],
      "metadata": {
        "id": "-lBvzmqgSat8"
      },
      "execution_count": 9,
      "outputs": []
    },
    {
      "cell_type": "code",
      "source": [
        "X_train_transformed.shape"
      ],
      "metadata": {
        "colab": {
          "base_uri": "https://localhost:8080/"
        },
        "id": "NMH8dSl3S06G",
        "outputId": "5c65f6b6-fee7-4f94-f32d-4b63602f9bd2"
      },
      "execution_count": 11,
      "outputs": [
        {
          "output_type": "execute_result",
          "data": {
            "text/plain": [
              "(80, 91)"
            ]
          },
          "metadata": {},
          "execution_count": 11
        }
      ]
    },
    {
      "cell_type": "code",
      "source": [
        "X_val_transformed.shape"
      ],
      "metadata": {
        "colab": {
          "base_uri": "https://localhost:8080/"
        },
        "id": "rNl5Wo9TTAc0",
        "outputId": "7babd255-65db-40b9-9065-d7f336341e25"
      },
      "execution_count": 12,
      "outputs": [
        {
          "output_type": "execute_result",
          "data": {
            "text/plain": [
              "(20, 91)"
            ]
          },
          "metadata": {},
          "execution_count": 12
        }
      ]
    },
    {
      "cell_type": "code",
      "source": [
        "from sklearn.linear_model import LinearRegression, Ridge\n",
        "from sklearn.metrics import mean_squared_error\n",
        "\n",
        "linear_reg = LinearRegression()\n",
        "linear_reg.fit(X_train_transformed, y_train)\n",
        "\n",
        "y_train_pred_linear = linear_reg.predict(X_train_transformed)\n",
        "y_val_pred_linear = linear_reg.predict(X_val_transformed)\n",
        "\n",
        "mse_train_linear = mean_squared_error(y_train, y_train_pred_linear)\n",
        "mse_val_linear = mean_squared_error(y_val, y_val_pred_linear)\n",
        "\n",
        "print(\"Linear Regression:\")\n",
        "print(\"Training MSE:\", mse_train_linear)\n",
        "print(\"Validation MSE:\", mse_val_linear)"
      ],
      "metadata": {
        "colab": {
          "base_uri": "https://localhost:8080/"
        },
        "id": "Nob8EbuSTE-w",
        "outputId": "2abb1b1a-3609-4eac-9f03-4efa555053f8"
      },
      "execution_count": 15,
      "outputs": [
        {
          "output_type": "stream",
          "name": "stdout",
          "text": [
            "Linear Regression:\n",
            "Training MSE: 5.386211912546793e-15\n",
            "Validation MSE: 7351163329.328703\n"
          ]
        }
      ]
    },
    {
      "cell_type": "code",
      "source": [
        "ridge_reg = Ridge(alpha=250)\n",
        "ridge_reg.fit(X_train_transformed, y_train)\n",
        "\n",
        "y_train_pred_ridge = ridge_reg.predict(X_train_transformed)\n",
        "y_val_pred_ridge = ridge_reg.predict(X_val_transformed)\n",
        "\n",
        "mse_train_ridge = mean_squared_error(y_train, y_train_pred_ridge)\n",
        "mse_val_ridge = mean_squared_error(y_val, y_val_pred_ridge)\n",
        "\n",
        "print(\"\\nRidge Regression (alpha=250):\")\n",
        "print(\"Training MSE:\", mse_train_ridge)\n",
        "print(\"Validation MSE:\", mse_val_ridge)"
      ],
      "metadata": {
        "colab": {
          "base_uri": "https://localhost:8080/"
        },
        "id": "1eUykAr5UNqe",
        "outputId": "412ed025-508b-445d-be51-2bdec18055fa"
      },
      "execution_count": 17,
      "outputs": [
        {
          "output_type": "stream",
          "name": "stdout",
          "text": [
            "\n",
            "Ridge Regression (alpha=250):\n",
            "Training MSE: 1945.4294426937897\n",
            "Validation MSE: 3921.740925455774\n"
          ]
        }
      ]
    }
  ]
}