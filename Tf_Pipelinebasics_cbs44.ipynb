{
  "nbformat": 4,
  "nbformat_minor": 0,
  "metadata": {
    "colab": {
      "provenance": []
    },
    "kernelspec": {
      "name": "python3",
      "display_name": "Python 3"
    },
    "language_info": {
      "name": "python"
    }
  },
  "cells": [
    {
      "cell_type": "code",
      "execution_count": null,
      "metadata": {
        "id": "7AuBdT4FR8i2"
      },
      "outputs": [],
      "source": [
        "import tensorflow as tf\n"
      ]
    },
    {
      "cell_type": "code",
      "source": [
        "images_ds = tf.data.Dataset.list_files('/content/drive/MyDrive/images_cats_dogs/*/*', shuffle=False)"
      ],
      "metadata": {
        "id": "t-eAjSTQUlEa"
      },
      "execution_count": null,
      "outputs": []
    },
    {
      "cell_type": "code",
      "source": [
        "for file in images_ds.take(3):\n",
        "  print(file.numpy())"
      ],
      "metadata": {
        "colab": {
          "base_uri": "https://localhost:8080/"
        },
        "id": "jrpn26WkV9vV",
        "outputId": "d9be6818-2832-4603-bab3-3ee2c107c18d"
      },
      "execution_count": null,
      "outputs": [
        {
          "output_type": "stream",
          "name": "stdout",
          "text": [
            "b'/content/drive/MyDrive/images_cats_dogs/cat/20 Reasons Why Cats Make the Best Pets....jpg'\n",
            "b'/content/drive/MyDrive/images_cats_dogs/cat/7 Foods Your Cat Can_t Eat.jpg'\n",
            "b'/content/drive/MyDrive/images_cats_dogs/cat/A cat appears to have caught the....jpg'\n"
          ]
        }
      ]
    },
    {
      "cell_type": "code",
      "source": [
        "images_ds = images_ds.shuffle(200)\n",
        "\n",
        "for file in images_ds.take(3).as_numpy_iterator():\n",
        "  print(file)"
      ],
      "metadata": {
        "colab": {
          "base_uri": "https://localhost:8080/"
        },
        "id": "ED5uX4OnWWU6",
        "outputId": "b52c9842-da9d-4104-de8a-6a7cecff83de"
      },
      "execution_count": null,
      "outputs": [
        {
          "output_type": "stream",
          "name": "stdout",
          "text": [
            "b'/content/drive/MyDrive/images_cats_dogs/dog/Canine Mind....jpg'\n",
            "b'/content/drive/MyDrive/images_cats_dogs/dog/List of Dog Breeds _ Petfinder.jpg'\n",
            "b'/content/drive/MyDrive/images_cats_dogs/cat/7 Foods Your Cat Can_t Eat.jpg'\n"
          ]
        }
      ]
    },
    {
      "cell_type": "code",
      "source": [
        "class_names = ['cat', 'dog']"
      ],
      "metadata": {
        "id": "6f7Zc93PW7TZ"
      },
      "execution_count": null,
      "outputs": []
    },
    {
      "cell_type": "code",
      "source": [
        "image_count = len(images_ds)\n",
        "image_count"
      ],
      "metadata": {
        "colab": {
          "base_uri": "https://localhost:8080/"
        },
        "id": "cquozB_AXAnz",
        "outputId": "e55c12c8-0728-4338-d659-1926d4ea0153"
      },
      "execution_count": null,
      "outputs": [
        {
          "output_type": "execute_result",
          "data": {
            "text/plain": [
              "130"
            ]
          },
          "metadata": {},
          "execution_count": 41
        }
      ]
    },
    {
      "cell_type": "code",
      "source": [
        "train_size = int(image_count*0.8)\n",
        "\n",
        "train_ds = images_ds.take(train_size)\n",
        "test_ds = images_ds.skip(train_size)\n"
      ],
      "metadata": {
        "id": "tVBB5JgUXKzI"
      },
      "execution_count": null,
      "outputs": []
    },
    {
      "cell_type": "code",
      "source": [
        "len(train_ds)"
      ],
      "metadata": {
        "colab": {
          "base_uri": "https://localhost:8080/"
        },
        "id": "JojpcGBIXy1D",
        "outputId": "c31cbc1e-29c2-4f5d-81f9-ec9d44405059"
      },
      "execution_count": null,
      "outputs": [
        {
          "output_type": "execute_result",
          "data": {
            "text/plain": [
              "104"
            ]
          },
          "metadata": {},
          "execution_count": 43
        }
      ]
    },
    {
      "cell_type": "code",
      "source": [
        "len(test_ds)"
      ],
      "metadata": {
        "colab": {
          "base_uri": "https://localhost:8080/"
        },
        "id": "ePDtiya0X4SQ",
        "outputId": "4060f16f-bb9c-415a-8241-b4a459c4130f"
      },
      "execution_count": null,
      "outputs": [
        {
          "output_type": "execute_result",
          "data": {
            "text/plain": [
              "26"
            ]
          },
          "metadata": {},
          "execution_count": 44
        }
      ]
    },
    {
      "cell_type": "code",
      "source": [
        "for t in train_ds.take(10):\n",
        "  print(t.numpy())"
      ],
      "metadata": {
        "colab": {
          "base_uri": "https://localhost:8080/"
        },
        "id": "_ZJvCqDIX6mR",
        "outputId": "2c134fdc-2bf8-42c8-9274-5034d22e7bfa"
      },
      "execution_count": null,
      "outputs": [
        {
          "output_type": "stream",
          "name": "stdout",
          "text": [
            "b'/content/drive/MyDrive/images_cats_dogs/dog/Subaru Shows Love for Dogs Through the....jpg'\n",
            "b'/content/drive/MyDrive/images_cats_dogs/dog/AKC Pet Insurance _ Health Insurance....png'\n",
            "b'/content/drive/MyDrive/images_cats_dogs/dog/Germany_ Dogs must be walked twice a....jpg'\n",
            "b'/content/drive/MyDrive/images_cats_dogs/cat/Reality check_ Can cat poop cause....jpg'\n",
            "b'/content/drive/MyDrive/images_cats_dogs/cat/How to Determine Your Cat_s Age.jpg'\n",
            "b'/content/drive/MyDrive/images_cats_dogs/dog/Science_ Talking to Your Dog Means You....jpg'\n",
            "b'/content/drive/MyDrive/images_cats_dogs/dog/The History of Dogs as Pets - ABC News.jpg'\n",
            "b'/content/drive/MyDrive/images_cats_dogs/cat/Famous Cat Performances in Movies_ Ranked.jpg'\n",
            "b'/content/drive/MyDrive/images_cats_dogs/dog/356 Free Dog Stock Photos - CC0 Images.jpg'\n",
            "b'/content/drive/MyDrive/images_cats_dogs/dog/scientists explain puppy dog eyes....jpg'\n"
          ]
        }
      ]
    },
    {
      "cell_type": "code",
      "source": [
        "def get_label(file_path):\n",
        "  import os\n",
        "  return tf.strings.split(file_path, os.path.sep)[-2]"
      ],
      "metadata": {
        "id": "BRwavqYfY6lV"
      },
      "execution_count": null,
      "outputs": []
    },
    {
      "cell_type": "code",
      "source": [
        "for label in train_ds.map(get_label).take(3):\n",
        "  print('Label: ', label)"
      ],
      "metadata": {
        "colab": {
          "base_uri": "https://localhost:8080/"
        },
        "id": "JcB5mklhlOep",
        "outputId": "730a251a-9ffe-4575-fbfb-6363ca128269"
      },
      "execution_count": null,
      "outputs": [
        {
          "output_type": "stream",
          "name": "stdout",
          "text": [
            "Label:  tf.Tensor(b'dog', shape=(), dtype=string)\n",
            "Label:  tf.Tensor(b'cat', shape=(), dtype=string)\n",
            "Label:  tf.Tensor(b'dog', shape=(), dtype=string)\n"
          ]
        }
      ]
    },
    {
      "cell_type": "code",
      "source": [
        "def process_image(file_path):\n",
        "  label = get_label(file_path)\n",
        "\n",
        "  img = tf.io.read_file(file_path)\n",
        "  img = tf.image.decode_jpeg(img)\n",
        "  img = tf.image.resize(img, [128,128])\n",
        "\n",
        "  return img, label"
      ],
      "metadata": {
        "id": "fqkXNIDbZ-qw"
      },
      "execution_count": null,
      "outputs": []
    },
    {
      "cell_type": "code",
      "source": [
        "for img, label in train_ds.map(process_image).take(3):\n",
        "  print('Image :', img)\n",
        "  print('Label: ', label)"
      ],
      "metadata": {
        "colab": {
          "base_uri": "https://localhost:8080/"
        },
        "id": "ivfxg0DtmZUM",
        "outputId": "391f2918-19f5-4746-9512-cc57e1eba986"
      },
      "execution_count": null,
      "outputs": [
        {
          "output_type": "stream",
          "name": "stdout",
          "text": [
            "Image : tf.Tensor(\n",
            "[[[  0.7470703 100.913086   66.913086 ]\n",
            "  [  6.8408203 105.84082    76.84082  ]\n",
            "  [  3.7490234 104.08496    74.41699  ]\n",
            "  ...\n",
            "  [  6.908203   97.74219    66.825195 ]\n",
            "  [  3.7470703  88.831055   59.831055 ]\n",
            "  [  0.5830078  78.08008    47.08008  ]]\n",
            "\n",
            " [[  1.7480469 100.48535    71.984375 ]\n",
            "  [  1.5029297 104.25293    75.25293  ]\n",
            "  [  2.256836  107.256836   77.256836 ]\n",
            "  ...\n",
            "  [  0.5175781  93.02539    67.024414 ]\n",
            "  [  0.75       95.25195    63.250977 ]\n",
            "  [  2.5078125  93.50781    62.507812 ]]\n",
            "\n",
            " [[  5.3398438 108.33984    79.33984  ]\n",
            "  [  2.3398438 109.33984    79.33984  ]\n",
            "  [  0.        108.25488    79.25488  ]\n",
            "  ...\n",
            "  [  0.        104.58496    74.58496  ]\n",
            "  [  9.155273  110.15527    78.15527  ]\n",
            "  [  6.0097656 103.774414   70.51953  ]]\n",
            "\n",
            " ...\n",
            "\n",
            " [[ 24.91504    26.254883   18.225586 ]\n",
            "  [ 15.725586   18.725586    9.725586 ]\n",
            "  [  7.3251953  10.325195    1.3251953]\n",
            "  ...\n",
            "  [116.15039   124.16992    89.83008  ]\n",
            "  [105.50488   118.174805   88.174805 ]\n",
            "  [104.225586  122.740234   86.91504  ]]\n",
            "\n",
            " [[ 14.762695   16.762695    5.7626953]\n",
            "  [ 12.996094   15.996094    6.9960938]\n",
            "  [ 11.753906   13.753906    2.7539062]\n",
            "  ...\n",
            "  [121.99512   123.006836   91.00293  ]\n",
            "  [116.25      122.25391    88.25391  ]\n",
            "  [108.76074   120.76074    84.76074  ]]\n",
            "\n",
            " [[ 10.915039   12.915039    1.9150391]\n",
            "  [ 14.583008   16.583008    5.583008 ]\n",
            "  [ 25.095703   35.594727   21.761719 ]\n",
            "  ...\n",
            "  [114.74707   120.74707    84.74707  ]\n",
            "  [115.33203   121.33203    87.33203  ]\n",
            "  [110.41992   117.41992    83.41992  ]]], shape=(128, 128, 3), dtype=float32)\n",
            "Label:  tf.Tensor(b'cat', shape=(), dtype=string)\n",
            "Image : tf.Tensor(\n",
            "[[[186.56226  190.75366  193.75366 ]\n",
            "  [183.98157  189.72876  191.99011 ]\n",
            "  [202.25269  209.25269  219.25269 ]\n",
            "  ...\n",
            "  [252.9342   252.9342   252.9342  ]\n",
            "  [249.67151  253.67151  252.67151 ]\n",
            "  [240.53125  245.53125  251.53125 ]]\n",
            "\n",
            " [[187.6438   194.91296  200.10547 ]\n",
            "  [186.21997  197.21997  202.40747 ]\n",
            "  [223.87341  228.87341  233.26819 ]\n",
            "  ...\n",
            "  [251.       253.       252.      ]\n",
            "  [249.       253.       254.      ]\n",
            "  [239.33167  246.33167  252.33167 ]]\n",
            "\n",
            " [[194.3573   203.4198   205.88855 ]\n",
            "  [208.37134  218.18384  224.77759 ]\n",
            "  [231.26953  235.26953  238.26953 ]\n",
            "  ...\n",
            "  [247.04297  251.04297  252.04297 ]\n",
            "  [247.04297  251.04297  252.04297 ]\n",
            "  [239.42908  245.49158  251.49158 ]]\n",
            "\n",
            " ...\n",
            "\n",
            " [[248.46875  244.46875  232.46875 ]\n",
            "  [246.3888   239.3888   223.33777 ]\n",
            "  [236.80164  228.80164  205.80164 ]\n",
            "  ...\n",
            "  [167.97144  147.97144  110.971436]\n",
            "  [196.85547  195.85547  190.85547 ]\n",
            "  [213.40955  213.40955  215.40955 ]]\n",
            "\n",
            " [[246.2262   240.       223.5476  ]\n",
            "  [241.15344  233.15344  211.30188 ]\n",
            "  [239.98254  229.68518  204.37756 ]\n",
            "  ...\n",
            "  [161.75574  144.19482  106.04846 ]\n",
            "  [199.27234  199.08484  194.08484 ]\n",
            "  [211.47302  212.86292  212.16797 ]]\n",
            "\n",
            " [[240.46875  232.46875  211.46875 ]\n",
            "  [237.34094  225.9386   199.81396 ]\n",
            "  [233.93237  226.31519  195.68213 ]\n",
            "  ...\n",
            "  [163.08936  147.64526  111.36731 ]\n",
            "  [193.72766  194.80542  189.80542 ]\n",
            "  [212.94128  216.36707  219.17566 ]]], shape=(128, 128, 3), dtype=float32)\n",
            "Label:  tf.Tensor(b'dog', shape=(), dtype=string)\n",
            "Image : tf.Tensor(\n",
            "[[[22.       22.       22.      ]\n",
            "  [22.       22.       22.      ]\n",
            "  [22.       22.       22.      ]\n",
            "  ...\n",
            "  [22.       22.       22.      ]\n",
            "  [22.       22.       22.      ]\n",
            "  [22.       22.       22.      ]]\n",
            "\n",
            " [[22.       22.       22.      ]\n",
            "  [22.       22.       22.      ]\n",
            "  [22.       22.       22.      ]\n",
            "  ...\n",
            "  [22.       22.       22.      ]\n",
            "  [22.       22.       22.      ]\n",
            "  [22.       22.       22.      ]]\n",
            "\n",
            " [[22.       22.       22.      ]\n",
            "  [22.       22.       22.      ]\n",
            "  [22.       22.       22.      ]\n",
            "  ...\n",
            "  [22.       22.       22.      ]\n",
            "  [22.       22.       22.      ]\n",
            "  [22.       22.       22.      ]]\n",
            "\n",
            " ...\n",
            "\n",
            " [[26.0625   26.75     22.6875  ]\n",
            "  [27.746094 28.433594 24.371094]\n",
            "  [27.902344 27.785156 25.492188]\n",
            "  ...\n",
            "  [92.       79.28906  67.859375]\n",
            "  [90.62891  78.62891  66.62891 ]\n",
            "  [86.3125   75.375    65.6875  ]]\n",
            "\n",
            " [[27.8125   27.8125   25.8125  ]\n",
            "  [28.       28.       26.      ]\n",
            "  [27.128906 27.441406 24.503906]\n",
            "  ...\n",
            "  [89.11719  77.56641  66.25    ]\n",
            "  [88.33984  76.33984  64.33984 ]\n",
            "  [83.48828  73.48828  63.48828 ]]\n",
            "\n",
            " [[28.9375   29.9375   24.9375  ]\n",
            "  [28.9375   29.875    25.0625  ]\n",
            "  [27.9375   28.894531 24.023438]\n",
            "  ...\n",
            "  [82.77734  72.73047  60.75    ]\n",
            "  [83.375    73.25     63.125   ]\n",
            "  [82.125    72.125    62.125   ]]], shape=(128, 128, 3), dtype=float32)\n",
            "Label:  tf.Tensor(b'dog', shape=(), dtype=string)\n"
          ]
        }
      ]
    },
    {
      "cell_type": "code",
      "source": [
        "train_ds = train_ds.map(process_image)"
      ],
      "metadata": {
        "id": "xb6QXkeXm2Sb"
      },
      "execution_count": null,
      "outputs": []
    },
    {
      "cell_type": "code",
      "source": [
        "def scaled(image, label):\n",
        "  return image/255, label"
      ],
      "metadata": {
        "id": "dj7QOi3VZpVY"
      },
      "execution_count": null,
      "outputs": []
    },
    {
      "cell_type": "code",
      "source": [
        "train_ds = train_ds.map(scaled)\n"
      ],
      "metadata": {
        "id": "-owW2_VPbVKR"
      },
      "execution_count": null,
      "outputs": []
    },
    {
      "cell_type": "code",
      "source": [
        "test_ds = test_ds.map(process_image)"
      ],
      "metadata": {
        "id": "hNaGMWMan0iC"
      },
      "execution_count": null,
      "outputs": []
    },
    {
      "cell_type": "code",
      "source": [
        "for img, label in train_ds.take(3):\n",
        "  print('Image :', img.numpy()[0][0])\n",
        "  print('Label: ', label.numpy())"
      ],
      "metadata": {
        "colab": {
          "base_uri": "https://localhost:8080/"
        },
        "id": "-NxrFt68nNp8",
        "outputId": "975fd37c-578b-4a94-e9cb-44b7acdc5981"
      },
      "execution_count": null,
      "outputs": [
        {
          "output_type": "stream",
          "name": "stdout",
          "text": [
            "Image : [0.21355699 0.3477788  0.1400582 ]\n",
            "Label:  b'dog'\n",
            "Image : [0.03999694 0.07136948 0.01254596 1.        ]\n",
            "Label:  b'dog'\n",
            "Image : [0.44313726 0.28627452 0.04705882]\n",
            "Label:  b'dog'\n"
          ]
        }
      ]
    }
  ]
}